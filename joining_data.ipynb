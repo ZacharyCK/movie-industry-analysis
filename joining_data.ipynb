{
 "cells": [
  {
   "cell_type": "markdown",
   "metadata": {},
   "source": [
    "## Joining Data in Database\n",
    "In this Jupyter Notebook file we are going to take our data that was added to the database (make sure you run files to create and insert data into database before running anything in this file) and joining it so we can view all of the data from each matching movie from our datasets together in one place."
   ]
  },
  {
   "cell_type": "markdown",
   "metadata": {},
   "source": [
    "### Import <code>sqlite3</code> package and connect to the <code>movies.db</code> database and create a <code>cursor</code> object"
   ]
  },
  {
   "cell_type": "code",
   "execution_count": null,
   "metadata": {},
   "outputs": [],
   "source": [
    "import sqlite3\n",
    "import matplotlib.pyplot as plt\n",
    "import numpy as np\n",
    "\n",
    "connection = sqlite3.connect('movies.db')\n",
    "cursor = connection.cursor() #, d.director_name, g.genre_name"
   ]
  },
  {
   "cell_type": "code",
   "execution_count": null,
   "metadata": {},
   "outputs": [],
   "source": [
    "cursor.execute('DROP VIEW IF EXISTS actor_popularity')\n",
    "\n",
    "cursor.execute('''\n",
    "                CREATE VIEW actor_popularity AS \n",
    "                SELECT s.star_name AS actors_name, COUNT(mbo.movie_name) AS movie_number, \n",
    "                CAST(AVG(mbo.world_wide_bo) AS INTEGER) AS avg_bo, \n",
    "                CAST(AVG(mbo.domestic_amount) AS INTEGER) AS avg_domestic,\n",
    "                CAST(AVG(mbo.foreign_amount) AS INTEGER) AS avg_foreign,\n",
    "                CAST(AVG(mbo.domestic_percentage) AS INTEGER) AS avg_dom_pct,\n",
    "                CAST(AVG(mbo.foreign_percentage) AS INTEGER) AS avg_frn_pct,\n",
    "                CAST(AVG(mr.tomato_meter) AS INTEGER) AS avg_tomato,\n",
    "                CAST(AVG(mr.audience_score) AS INTEGER) AS avg_audience\n",
    "                FROM movies_box_office AS mbo\n",
    "                INNER JOIN movie_reviews AS mr ON mbo.movie_name = mr.movie_name\n",
    "                INNER JOIN imdb_movies AS im ON mbo.movie_name = im.movie_name\n",
    "                INNER JOIN movie_stars AS ms ON im.imdb_movies_id = ms.movie_id\n",
    "                INNER JOIN stars AS s ON ms.star_id = s.star_id\n",
    "                GROUP BY s.star_name\n",
    "                ORDER BY movie_number DESC, avg_bo DESC\n",
    "               ''')\n",
    "\n",
    "\n"
   ]
  },
  {
   "cell_type": "markdown",
   "metadata": {},
   "source": [
    "## Actors Data Conclusions\n",
    "To get the most successful and most popular actors of the last 5 years I combined The data from IMDB, Box Office Numbers, and Rotten Tomatos.  I queried the data from the database containing all of the data from those datasets and first found what actors had been in the most amount of movies in this time period.  I found this to be one of the largest indicators for the success of an actor.    "
   ]
  },
  {
   "cell_type": "code",
   "execution_count": null,
   "metadata": {},
   "outputs": [],
   "source": [
    "# Data preparation\n",
    "cursor.execute('SELECT movie_number FROM actor_popularity LIMIT 10')\n",
    "num_of_movies = [item[0] for item in cursor.fetchall()]\n",
    "cursor.execute('SELECT actors_name FROM actor_popularity LIMIT 10')\n",
    "actors = [item[0] for item in cursor.fetchall()]\n",
    "\n",
    "# Make a bar chart\n",
    "plt.bar(actors, num_of_movies, width=0.5, color='#00cc00')\n",
    "plt.xticks(rotation=45, ha='right', fontsize=10)\n",
    "plt.tight_layout()\n",
    "\n",
    "# Make labels for the graph\n",
    "plt.title('Top 10 Actors Based on Number of Starring Roles')\n",
    "plt.xlabel('Actors')\n",
    "plt.ylabel('Number of Movies')\n",
    "\n",
    "# Display the chart\n",
    "plt.show()\n"
   ]
  },
  {
   "cell_type": "markdown",
   "metadata": {},
   "source": [
    "I then, out of those same actors, got how much money they pulled in the box office from the movies they starred in.  This is my second gauge for success because it determines whether these actors influence people to go see the movies they star in."
   ]
  },
  {
   "cell_type": "code",
   "execution_count": null,
   "metadata": {},
   "outputs": [],
   "source": [
    "# Data preparation\n",
    "cursor.execute('SELECT avg_bo FROM actor_popularity LIMIT 10')\n",
    "num_of_movies = [item[0] for item in cursor.fetchall()]\n",
    "cursor.execute('SELECT actors_name FROM actor_popularity LIMIT 10')\n",
    "actors = [item[0] for item in cursor.fetchall()]\n",
    "\n",
    "# Make a bar chart\n",
    "plt.bar(actors, num_of_movies, width=0.5, color='#00cc00')\n",
    "plt.xticks(rotation=45, ha='right', fontsize=10)\n",
    "plt.tight_layout()\n",
    "\n",
    "# Make labels for the graph\n",
    "plt.title('Top 10 Actors Based on Number of Starring Roles (Box Office Numbers)')\n",
    "plt.xlabel('Actors')\n",
    "plt.ylabel('Box Office Average')\n",
    "\n",
    "# Display the chart\n",
    "plt.show()"
   ]
  },
  {
   "cell_type": "markdown",
   "metadata": {},
   "source": [
    "After that I got the Rotten Tomatoes average critic approval percentage and the average audience approval percentage for each actor.  The reason these are the last gauges for success is because everyone has differing opinions about movies.  With those though, you see which actors star in movies that critics generally like and which actors star in movies that general audiences like."
   ]
  },
  {
   "cell_type": "code",
   "execution_count": null,
   "metadata": {},
   "outputs": [],
   "source": [
    "# Data preparation\n",
    "cursor.execute('SELECT avg_tomato FROM actor_popularity LIMIT 10')\n",
    "num_of_movies = [item[0] for item in cursor.fetchall()]\n",
    "cursor.execute('SELECT actors_name FROM actor_popularity LIMIT 10')\n",
    "actors = [item[0] for item in cursor.fetchall()]\n",
    "\n",
    "# Make a bar chart\n",
    "plt.bar(actors, num_of_movies, width=0.5, color='#00cc00')\n",
    "plt.gca().set_ylim([58, 85])\n",
    "plt.xticks(rotation=45, ha='right', fontsize=10)\n",
    "plt.tight_layout()\n",
    "\n",
    "# Make labels for the graph\n",
    "plt.title('Top 10 Actors Based on Number of Starring Roles (RT Critic Approval %)')\n",
    "plt.xlabel('Actors')\n",
    "plt.ylabel('RT Critics Approval Percentage')\n",
    "\n",
    "# Display the chart\n",
    "plt.show()"
   ]
  },
  {
   "cell_type": "code",
   "execution_count": null,
   "metadata": {},
   "outputs": [],
   "source": [
    "# Data preparation\n",
    "cursor.execute('SELECT avg_audience FROM actor_popularity LIMIT 10')\n",
    "num_of_movies = [item[0] for item in cursor.fetchall()]\n",
    "cursor.execute('SELECT actors_name FROM actor_popularity LIMIT 10')\n",
    "actors = [item[0] for item in cursor.fetchall()]\n",
    "\n",
    "# Make a bar chart\n",
    "plt.bar(actors, num_of_movies, width=0.5, color='#00cc00')\n",
    "plt.gca().set_ylim([58, 85])\n",
    "plt.xticks(rotation=45, ha='right', fontsize=10)\n",
    "plt.tight_layout()\n",
    "\n",
    "# Make labels for the graph\n",
    "plt.title('Top 10 Actors Based on Number of Starring Roles (Audience Reviews)')\n",
    "plt.xlabel('Actors')\n",
    "plt.ylabel('Audience Review Approval Percentage')\n",
    "\n",
    "# Display the chart\n",
    "plt.show()"
   ]
  },
  {
   "cell_type": "code",
   "execution_count": null,
   "metadata": {},
   "outputs": [],
   "source": [
    "cursor.execute('DROP VIEW IF EXISTS director_success')\n",
    "\n",
    "cursor.execute('''\n",
    "                CREATE VIEW director_success AS \n",
    "                SELECT d.director_name AS directors_name, COUNT(mbo.movie_name) AS movie_number, \n",
    "                CAST(AVG(mbo.world_wide_bo) AS INTEGER) AS avg_bo, \n",
    "                CAST(AVG(mbo.domestic_amount) AS INTEGER) AS avg_domestic,\n",
    "                CAST(AVG(mbo.foreign_amount) AS INTEGER) AS avg_foreign,\n",
    "                CAST(AVG(mbo.domestic_percentage) AS INTEGER) AS avg_dom_pct,\n",
    "                CAST(AVG(mbo.foreign_percentage) AS INTEGER) AS avg_frn_pct,\n",
    "                CAST(AVG(mr.tomato_meter) AS INTEGER) AS avg_tomato,\n",
    "                CAST(AVG(mr.audience_score) AS INTEGER) AS avg_audience\n",
    "                FROM movies_box_office AS mbo\n",
    "                INNER JOIN movie_reviews AS mr ON mbo.movie_name = mr.movie_name\n",
    "                INNER JOIN imdb_movies AS im ON mbo.movie_name = im.movie_name\n",
    "                INNER JOIN movie_directors AS md ON im.imdb_movies_id = md.movie_id\n",
    "                INNER JOIN directors AS d ON md.director_id = d.director_id\n",
    "                GROUP BY directors_name\n",
    "                ORDER BY avg_bo DESC\n",
    "               ''')"
   ]
  },
  {
   "cell_type": "markdown",
   "metadata": {},
   "source": [
    "## Directors Data Conclusions\n",
    "I gauged directors success a little differently than I gauged actors success.  I first got the top ten directors based on their average box office success.  The reason box office success is more important than the amount of movies each director had worked on is because the frequency at which directors direct movies is generally slower than the frequency that big name actors star in movies.  I found that the directors that made more movies within this time period did not average high box office numbers.  I also found that the top of the list contained the Russo brothers, who had the same success in the box office due to co-directing the same movies.  For this reason I decided to do the top 11 directors instead of the top 10. "
   ]
  },
  {
   "cell_type": "code",
   "execution_count": null,
   "metadata": {},
   "outputs": [],
   "source": [
    "# Data preparation\n",
    "cursor.execute('SELECT avg_bo FROM director_success LIMIT 11')\n",
    "num_of_movies = [item[0] for item in cursor.fetchall()]\n",
    "cursor.execute('SELECT directors_name FROM director_success LIMIT 11')\n",
    "actors = [item[0] for item in cursor.fetchall()]\n",
    "\n",
    "# Make a bar chart\n",
    "plt.bar(actors, num_of_movies, width=0.5, color='#0000cc')\n",
    "plt.xticks(rotation=45, ha='right', fontsize=10)\n",
    "plt.tight_layout()\n",
    "\n",
    "# Make labels for the graph\n",
    "plt.title('Top 10 Directors Based on Box Office Success')\n",
    "plt.xlabel('Directors')\n",
    "plt.ylabel('Average Box Office')\n",
    "\n",
    "# Display the chart\n",
    "plt.show()"
   ]
  },
  {
   "cell_type": "markdown",
   "metadata": {},
   "source": [
    "For the second gauge for directors success I got the average Rotton Tomatoes critic approval percentages and Rotten Tomatoes audience approval percentages.  These are the second gauges of success becasue they tell you what the critics and general audience members thought of the movies these directors directed.   "
   ]
  },
  {
   "cell_type": "code",
   "execution_count": null,
   "metadata": {},
   "outputs": [],
   "source": [
    "# Data preparation\n",
    "cursor.execute('SELECT avg_tomato FROM director_success LIMIT 11')\n",
    "num_of_movies = [item[0] for item in cursor.fetchall()]\n",
    "cursor.execute('SELECT directors_name FROM director_success LIMIT 11')\n",
    "actors = [item[0] for item in cursor.fetchall()]\n",
    "\n",
    "# Make a bar chart\n",
    "plt.bar(actors, num_of_movies, width=0.5, color='#0000cc')\n",
    "plt.gca().set_ylim([45, 100])\n",
    "plt.xticks(rotation=45, ha='right', fontsize=10)\n",
    "plt.tight_layout()\n",
    "\n",
    "# Make labels for the graph\n",
    "plt.title('Top 10 Directors Based on Box Office Success (RT Critics Approval %)')\n",
    "plt.xlabel('Directors')\n",
    "plt.ylabel('RT Critics Approval Percentage')\n",
    "\n",
    "# Display the chart\n",
    "plt.show()"
   ]
  },
  {
   "cell_type": "code",
   "execution_count": null,
   "metadata": {},
   "outputs": [],
   "source": [
    "# Data preparation\n",
    "cursor.execute('SELECT avg_audience FROM director_success LIMIT 11')\n",
    "num_of_movies = [item[0] for item in cursor.fetchall()]\n",
    "cursor.execute('SELECT directors_name FROM director_success LIMIT 11')\n",
    "actors = [item[0] for item in cursor.fetchall()]\n",
    "\n",
    "# Make a bar chart\n",
    "plt.bar(actors, num_of_movies, width=0.5, color='#0000cc')\n",
    "plt.gca().set_ylim([40, 100])\n",
    "plt.xticks(rotation=45, ha='right', fontsize=10)\n",
    "plt.tight_layout()\n",
    "\n",
    "# Make labels for the graph\n",
    "plt.title('Top 10 Directors Based on Box Office Success (Audience Approval %)')\n",
    "plt.xlabel('Directors')\n",
    "plt.ylabel('Audience Approval Percentage')\n",
    "\n",
    "# Display the chart\n",
    "plt.show()"
   ]
  },
  {
   "cell_type": "markdown",
   "metadata": {},
   "source": []
  },
  {
   "cell_type": "markdown",
   "metadata": {},
   "source": [
    "The last graph only gauges how many movies each director directed.  All of them, except for the Russo brothers, directed only one movie in the last 5 years."
   ]
  },
  {
   "cell_type": "code",
   "execution_count": null,
   "metadata": {},
   "outputs": [],
   "source": [
    "# Data preparation\n",
    "cursor.execute('SELECT movie_number FROM director_success LIMIT 11')\n",
    "num_of_movies = [item[0] for item in cursor.fetchall()]\n",
    "cursor.execute('SELECT directors_name FROM director_success LIMIT 11')\n",
    "actors = [item[0] for item in cursor.fetchall()]\n",
    "\n",
    "# Make a bar chart\n",
    "plt.bar(actors, num_of_movies, width=0.5, color='#0000cc')\n",
    "plt.yticks([0, 1, 2])\n",
    "plt.xticks(rotation=45, ha='right', fontsize=10)\n",
    "plt.tight_layout()\n",
    "\n",
    "# Make labels for the graph\n",
    "plt.title('Top 10 Directors Based on Box Office Success (# of Movies Directed)')\n",
    "plt.xlabel('Directors')\n",
    "plt.ylabel('Number of Movies Directed')\n",
    "\n",
    "# Display the chart\n",
    "plt.show()"
   ]
  },
  {
   "cell_type": "code",
   "execution_count": null,
   "metadata": {},
   "outputs": [],
   "source": [
    "cursor.execute('DROP VIEW IF EXISTS genre_success')\n",
    "cursor.execute('DROP VIEW IF EXISTS genre_frequency')\n",
    "cursor.execute('DROP VIEW IF EXISTS genre_reception')\n",
    "\n",
    "cursor.execute('''\n",
    "                CREATE VIEW genre_success AS \n",
    "                SELECT g.genre_name AS genre, COUNT(mbo.movie_name) AS movie_number, \n",
    "                CAST(AVG(mbo.world_wide_bo) AS INTEGER) AS avg_bo\n",
    "                FROM movies_box_office AS mbo\n",
    "                INNER JOIN imdb_movies AS im ON mbo.movie_name = im.movie_name\n",
    "                INNER JOIN movie_genres AS mg ON im.imdb_movies_id = mg.movie_id\n",
    "                INNER JOIN genres AS g ON mg.genre_id = g.genre_id\n",
    "                GROUP BY genre\n",
    "                ORDER BY avg_bo DESC\n",
    "               ''')\n",
    "\n",
    "cursor.execute('''\n",
    "                CREATE VIEW genre_frequency AS \n",
    "                SELECT g.genre_name AS genre, COUNT(mbo.movie_name) AS movie_number, \n",
    "                CAST(AVG(mbo.world_wide_bo) AS INTEGER) AS avg_bo\n",
    "                FROM movies_box_office AS mbo\n",
    "                INNER JOIN imdb_movies AS im ON mbo.movie_name = im.movie_name\n",
    "                INNER JOIN movie_genres AS mg ON im.imdb_movies_id = mg.movie_id\n",
    "                INNER JOIN genres AS g ON mg.genre_id = g.genre_id\n",
    "                GROUP BY genre\n",
    "                ORDER BY movie_number DESC\n",
    "               ''')\n",
    "\n",
    "cursor.execute('''\n",
    "                CREATE VIEW genre_reception AS \n",
    "                SELECT g.genre_name AS genre, COUNT(mr.movie_name) AS movie_number, \n",
    "                CAST(AVG(mr.tomato_meter) AS INTEGER) AS avg_tomato,\n",
    "                CAST(AVG(mr.audience_score) AS INTEGER) AS avg_audience\n",
    "                FROM movie_reviews AS mr\n",
    "                INNER JOIN imdb_movies AS im ON mr.movie_name = im.movie_name\n",
    "                INNER JOIN movie_genres AS mg ON im.imdb_movies_id = mg.movie_id\n",
    "                INNER JOIN genres AS g ON mg.genre_id = g.genre_id\n",
    "                GROUP BY genre\n",
    "                ORDER BY movie_number DESC\n",
    "               ''')"
   ]
  },
  {
   "cell_type": "markdown",
   "metadata": {},
   "source": [
    "## Movie Genre Data Analysis\n",
    "To see what genres have been the most successful I first see what genres had the best average box office performance.  I used a pie chart to illustrate the difference in each genre's success."
   ]
  },
  {
   "cell_type": "code",
   "execution_count": null,
   "metadata": {},
   "outputs": [],
   "source": [
    "# Data preparation\n",
    "cursor.execute('SELECT avg_bo FROM genre_success LIMIT 10')\n",
    "bo_numbers = [item[0] for item in cursor.fetchall()]\n",
    "cursor.execute('SELECT genre FROM genre_success LIMIT 10')\n",
    "actors = [item[0] for item in cursor.fetchall()]\n",
    "\n",
    "# Creating the pie chart\n",
    "plt.pie(bo_numbers, labels=actors, autopct='%d%%', startangle=140)\n",
    "\n",
    "# Add a title\n",
    "plt.title('Box Office Success Based on Genre')\n",
    "\n",
    "plt.plot()"
   ]
  },
  {
   "cell_type": "markdown",
   "metadata": {},
   "source": [
    "The next thing I gauged was the frequency of each genre in the past 5 years. This shows what genres are used the most and which are not used as much."
   ]
  },
  {
   "cell_type": "code",
   "execution_count": null,
   "metadata": {},
   "outputs": [],
   "source": [
    "# Data preparation\n",
    "cursor.execute('SELECT movie_number FROM genre_frequency LIMIT 10')\n",
    "bo_numbers = [item[0] for item in cursor.fetchall()]\n",
    "cursor.execute('SELECT genre FROM genre_frequency LIMIT 10')\n",
    "actors = [item[0] for item in cursor.fetchall()]\n",
    "\n",
    "# Creating the pie chart\n",
    "plt.pie(bo_numbers, labels=actors, autopct='%d%%', startangle=140)\n",
    "\n",
    "# Add a title\n",
    "plt.title('Frequency of Each Genre')\n",
    "\n",
    "plt.plot()"
   ]
  },
  {
   "cell_type": "markdown",
   "metadata": {},
   "source": [
    "The next two graphs show what the average approval was of movies of each genre were by both critics and general audience members. "
   ]
  },
  {
   "cell_type": "code",
   "execution_count": null,
   "metadata": {},
   "outputs": [],
   "source": [
    "# Data preparation\n",
    "cursor.execute('SELECT avg_tomato FROM genre_reception LIMIT 10')\n",
    "avg_tomato = [item[0] for item in cursor.fetchall()]\n",
    "cursor.execute('SELECT genre FROM genre_reception LIMIT 10')\n",
    "genres = [item[0] for item in cursor.fetchall()]\n",
    "\n",
    "# Make a bar chart\n",
    "plt.bar(genres, avg_tomato, width=0.5, color='#663300')\n",
    "plt.gca().set_ylim([55, 80])\n",
    "plt.xticks(rotation=45, ha='right', fontsize=10)\n",
    "plt.tight_layout()\n",
    "\n",
    "# Make labels for the graph\n",
    "plt.title('Top 10 Genres Based on RT Critic Approval %')\n",
    "plt.xlabel('Directors')\n",
    "plt.ylabel('Average RT Critic Approval Percentage')\n",
    "\n",
    "plt.plot()"
   ]
  },
  {
   "cell_type": "code",
   "execution_count": null,
   "metadata": {},
   "outputs": [],
   "source": [
    "# Data preparation\n",
    "cursor.execute('SELECT avg_audience FROM genre_reception LIMIT 10')\n",
    "avg_tomato = [item[0] for item in cursor.fetchall()]\n",
    "cursor.execute('SELECT genre FROM genre_reception LIMIT 10')\n",
    "genres = [item[0] for item in cursor.fetchall()]\n",
    "\n",
    "# Make a bar chart\n",
    "plt.bar(genres, avg_tomato, width=0.5, color='#663300')\n",
    "plt.gca().set_ylim([55, 80])\n",
    "plt.xticks(rotation=45, ha='right', fontsize=10)\n",
    "plt.tight_layout()\n",
    "\n",
    "# Make labels for the graph\n",
    "plt.title('Top 10 Genres Based on RT Critic Approval %')\n",
    "plt.xlabel('Directors')\n",
    "plt.ylabel('Average RT Critic Approval Percentage')\n",
    "\n",
    "plt.plot()"
   ]
  },
  {
   "cell_type": "code",
   "execution_count": null,
   "metadata": {},
   "outputs": [],
   "source": [
    "connection.close()"
   ]
  }
 ],
 "metadata": {
  "kernelspec": {
   "display_name": "Python 3 (ipykernel)",
   "language": "python",
   "name": "python3"
  },
  "language_info": {
   "codemirror_mode": {
    "name": "ipython",
    "version": 3
   },
   "file_extension": ".py",
   "mimetype": "text/x-python",
   "name": "python",
   "nbconvert_exporter": "python",
   "pygments_lexer": "ipython3",
   "version": "3.10.7"
  }
 },
 "nbformat": 4,
 "nbformat_minor": 2
}
