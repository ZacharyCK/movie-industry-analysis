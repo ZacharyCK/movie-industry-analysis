{
 "cells": [
  {
   "cell_type": "markdown",
   "metadata": {},
   "source": [
    "# Setting Up The SQLite Server\n",
    "Below is the code to import the sqlite3 library that is included with the Python standard library package."
   ]
  },
  {
   "cell_type": "code",
   "execution_count": 1,
   "metadata": {},
   "outputs": [],
   "source": [
    "import sqlite3"
   ]
  },
  {
   "cell_type": "markdown",
   "metadata": {},
   "source": [
    "Next is the code to create/connect with the database"
   ]
  },
  {
   "cell_type": "code",
   "execution_count": 3,
   "metadata": {},
   "outputs": [],
   "source": [
    "connection = sqlite3.connect('movies.db')"
   ]
  },
  {
   "cell_type": "markdown",
   "metadata": {},
   "source": [
    "Now the next code will create a cursor object so we can execute SQL statements"
   ]
  },
  {
   "cell_type": "code",
   "execution_count": 4,
   "metadata": {},
   "outputs": [],
   "source": [
    "cursor = connection.cursor()"
   ]
  },
  {
   "cell_type": "markdown",
   "metadata": {},
   "source": [
    "## Drop Tables\n",
    "Drop all the tables from the database to start fresh."
   ]
  },
  {
   "cell_type": "code",
   "execution_count": 5,
   "metadata": {},
   "outputs": [
    {
     "data": {
      "text/plain": [
       "<sqlite3.Cursor at 0x20254ae79c0>"
      ]
     },
     "execution_count": 5,
     "metadata": {},
     "output_type": "execute_result"
    }
   ],
   "source": [
    "cursor.execute('DROP TABLE IF EXISTS movies_box_office')"
   ]
  },
  {
   "cell_type": "markdown",
   "metadata": {},
   "source": [
    "## Create Tables \n",
    "### Main Table From imdb dataset (movies_box_office)"
   ]
  },
  {
   "cell_type": "code",
   "execution_count": 6,
   "metadata": {},
   "outputs": [
    {
     "data": {
      "text/plain": [
       "<sqlite3.Cursor at 0x20254ae79c0>"
      ]
     },
     "execution_count": 6,
     "metadata": {},
     "output_type": "execute_result"
    }
   ],
   "source": [
    "cursor.execute('''CREATE TABLE IF NOT EXISTS movies_box_office\n",
    "               (\n",
    "                    movies_box_office INTEGER PRIMARY KEY NOT NULL,\n",
    "                    movie_title VARCHAR(100) NOT NULL,\n",
    "                    world_wide_bo INTEGER,\n",
    "                    domestic_amount INTEGER,\n",
    "                    domestic_percentage FLOAT,\n",
    "                    foreign_amount INTEGER,\n",
    "                    foreign_percentage FLOAT\n",
    "                )''')"
   ]
  },
  {
   "cell_type": "code",
   "execution_count": 7,
   "metadata": {},
   "outputs": [],
   "source": [
    "import pandas as pd\n",
    "\n",
    "# List of file names\n",
    "filenames = ['./datasets/box-office/ranking_summary_2018.csv', './datasets/box-office/ranking_summary_2019.csv', './datasets/box-office/ranking_summary_2020.csv', './datasets/box-office/ranking_summary_2021.csv', './datasets/box-office/ranking_summary_2022.csv']\n",
    "\n",
    "# Read each CSV file into a DataFrame and store them in a list\n",
    "dataframes = [pd.read_csv(f) for f in filenames]\n",
    "\n",
    "# Concatenate all the dataframes into one\n",
    "combined_dataframe = pd.concat(dataframes, ignore_index=True)"
   ]
  },
  {
   "cell_type": "code",
   "execution_count": 8,
   "metadata": {},
   "outputs": [
    {
     "data": {
      "text/html": [
       "<div>\n",
       "<style scoped>\n",
       "    .dataframe tbody tr th:only-of-type {\n",
       "        vertical-align: middle;\n",
       "    }\n",
       "\n",
       "    .dataframe tbody tr th {\n",
       "        vertical-align: top;\n",
       "    }\n",
       "\n",
       "    .dataframe thead th {\n",
       "        text-align: right;\n",
       "    }\n",
       "</style>\n",
       "<table border=\"1\" class=\"dataframe\">\n",
       "  <thead>\n",
       "    <tr style=\"text-align: right;\">\n",
       "      <th></th>\n",
       "      <th>rank</th>\n",
       "      <th>title</th>\n",
       "      <th>worldwide</th>\n",
       "      <th>domestic</th>\n",
       "      <th>domestic_pct</th>\n",
       "      <th>foreign</th>\n",
       "      <th>foreign_pct</th>\n",
       "    </tr>\n",
       "  </thead>\n",
       "  <tbody>\n",
       "    <tr>\n",
       "      <th>0</th>\n",
       "      <td>1</td>\n",
       "      <td>Avengers: Infinity War</td>\n",
       "      <td>$2,048,359,754</td>\n",
       "      <td>$678,815,482</td>\n",
       "      <td>33.1%</td>\n",
       "      <td>$1,369,544,272</td>\n",
       "      <td>66.9%</td>\n",
       "    </tr>\n",
       "    <tr>\n",
       "      <th>1</th>\n",
       "      <td>2</td>\n",
       "      <td>Black Panther</td>\n",
       "      <td>$1,346,913,161</td>\n",
       "      <td>$700,059,566</td>\n",
       "      <td>52%</td>\n",
       "      <td>$646,853,595</td>\n",
       "      <td>48%</td>\n",
       "    </tr>\n",
       "    <tr>\n",
       "      <th>2</th>\n",
       "      <td>3</td>\n",
       "      <td>Jurassic World: Fallen Kingdom</td>\n",
       "      <td>$1,308,467,944</td>\n",
       "      <td>$417,719,760</td>\n",
       "      <td>31.9%</td>\n",
       "      <td>$890,748,184</td>\n",
       "      <td>68.1%</td>\n",
       "    </tr>\n",
       "    <tr>\n",
       "      <th>3</th>\n",
       "      <td>4</td>\n",
       "      <td>Incredibles 2</td>\n",
       "      <td>$1,242,805,359</td>\n",
       "      <td>$608,581,744</td>\n",
       "      <td>49%</td>\n",
       "      <td>$634,223,615</td>\n",
       "      <td>51%</td>\n",
       "    </tr>\n",
       "    <tr>\n",
       "      <th>4</th>\n",
       "      <td>5</td>\n",
       "      <td>Aquaman</td>\n",
       "      <td>$1,151,961,807</td>\n",
       "      <td>$335,061,807</td>\n",
       "      <td>29.1%</td>\n",
       "      <td>$816,900,000</td>\n",
       "      <td>70.9%</td>\n",
       "    </tr>\n",
       "    <tr>\n",
       "      <th>...</th>\n",
       "      <td>...</td>\n",
       "      <td>...</td>\n",
       "      <td>...</td>\n",
       "      <td>...</td>\n",
       "      <td>...</td>\n",
       "      <td>...</td>\n",
       "      <td>...</td>\n",
       "    </tr>\n",
       "    <tr>\n",
       "      <th>995</th>\n",
       "      <td>196</td>\n",
       "      <td>Lesson in Murder</td>\n",
       "      <td>$7,348,964</td>\n",
       "      <td>-</td>\n",
       "      <td>-</td>\n",
       "      <td>$7,348,964</td>\n",
       "      <td>100%</td>\n",
       "    </tr>\n",
       "    <tr>\n",
       "      <th>996</th>\n",
       "      <td>197</td>\n",
       "      <td>Family Affairs</td>\n",
       "      <td>$7,330,755</td>\n",
       "      <td>-</td>\n",
       "      <td>-</td>\n",
       "      <td>$7,330,755</td>\n",
       "      <td>100%</td>\n",
       "    </tr>\n",
       "    <tr>\n",
       "      <th>997</th>\n",
       "      <td>198</td>\n",
       "      <td>Listy do M. 5</td>\n",
       "      <td>$7,328,061</td>\n",
       "      <td>-</td>\n",
       "      <td>-</td>\n",
       "      <td>$7,328,061</td>\n",
       "      <td>100%</td>\n",
       "    </tr>\n",
       "    <tr>\n",
       "      <th>998</th>\n",
       "      <td>199</td>\n",
       "      <td>Laid-Back Camp Movie</td>\n",
       "      <td>$7,317,913</td>\n",
       "      <td>-</td>\n",
       "      <td>-</td>\n",
       "      <td>$7,317,913</td>\n",
       "      <td>100%</td>\n",
       "    </tr>\n",
       "    <tr>\n",
       "      <th>999</th>\n",
       "      <td>200</td>\n",
       "      <td>Osomatsusan the Movie 2022 Re-release</td>\n",
       "      <td>$7,297,522</td>\n",
       "      <td>-</td>\n",
       "      <td>-</td>\n",
       "      <td>$7,297,522</td>\n",
       "      <td>100%</td>\n",
       "    </tr>\n",
       "  </tbody>\n",
       "</table>\n",
       "<p>1000 rows × 7 columns</p>\n",
       "</div>"
      ],
      "text/plain": [
       "     rank                                  title       worldwide  \\\n",
       "0       1                 Avengers: Infinity War  $2,048,359,754   \n",
       "1       2                          Black Panther  $1,346,913,161   \n",
       "2       3         Jurassic World: Fallen Kingdom  $1,308,467,944   \n",
       "3       4                          Incredibles 2  $1,242,805,359   \n",
       "4       5                                Aquaman  $1,151,961,807   \n",
       "..    ...                                    ...             ...   \n",
       "995   196                       Lesson in Murder      $7,348,964   \n",
       "996   197                         Family Affairs      $7,330,755   \n",
       "997   198                          Listy do M. 5      $7,328,061   \n",
       "998   199                   Laid-Back Camp Movie      $7,317,913   \n",
       "999   200  Osomatsusan the Movie 2022 Re-release      $7,297,522   \n",
       "\n",
       "         domestic domestic_pct         foreign foreign_pct  \n",
       "0    $678,815,482        33.1%  $1,369,544,272       66.9%  \n",
       "1    $700,059,566          52%    $646,853,595         48%  \n",
       "2    $417,719,760        31.9%    $890,748,184       68.1%  \n",
       "3    $608,581,744          49%    $634,223,615         51%  \n",
       "4    $335,061,807        29.1%    $816,900,000       70.9%  \n",
       "..            ...          ...             ...         ...  \n",
       "995             -            -      $7,348,964        100%  \n",
       "996             -            -      $7,330,755        100%  \n",
       "997             -            -      $7,328,061        100%  \n",
       "998             -            -      $7,317,913        100%  \n",
       "999             -            -      $7,297,522        100%  \n",
       "\n",
       "[1000 rows x 7 columns]"
      ]
     },
     "execution_count": 8,
     "metadata": {},
     "output_type": "execute_result"
    }
   ],
   "source": [
    "combined_dataframe"
   ]
  }
 ],
 "metadata": {
  "kernelspec": {
   "display_name": "Python 3 (ipykernel)",
   "language": "python",
   "name": "python3"
  },
  "language_info": {
   "codemirror_mode": {
    "name": "ipython",
    "version": 3
   },
   "file_extension": ".py",
   "mimetype": "text/x-python",
   "name": "python",
   "nbconvert_exporter": "python",
   "pygments_lexer": "ipython3",
   "version": "3.10.7"
  }
 },
 "nbformat": 4,
 "nbformat_minor": 2
}
