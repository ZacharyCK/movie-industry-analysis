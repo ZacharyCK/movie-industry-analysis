{
 "cells": [
  {
   "cell_type": "markdown",
   "metadata": {},
   "source": [
    "# Setting Up The SQLite Server\n",
    "Below is the code to import the sqlite3 library that is included with the Python standard library package."
   ]
  },
  {
   "cell_type": "code",
   "execution_count": null,
   "metadata": {},
   "outputs": [],
   "source": [
    "import sqlite3"
   ]
  },
  {
   "cell_type": "markdown",
   "metadata": {},
   "source": [
    "Next is the code to create/connect with the database"
   ]
  },
  {
   "cell_type": "code",
   "execution_count": null,
   "metadata": {},
   "outputs": [],
   "source": [
    "connection = sqlite3.connect('movies.db')"
   ]
  },
  {
   "cell_type": "markdown",
   "metadata": {},
   "source": [
    "Now the next code will create a cursor object so we can execute SQL statements"
   ]
  },
  {
   "cell_type": "code",
   "execution_count": null,
   "metadata": {},
   "outputs": [],
   "source": [
    "cursor = connection.cursor()"
   ]
  },
  {
   "cell_type": "markdown",
   "metadata": {},
   "source": [
    "## Drop Tables\n",
    "Drop all the tables from the database to start fresh."
   ]
  },
  {
   "cell_type": "code",
   "execution_count": null,
   "metadata": {},
   "outputs": [],
   "source": [
    "cursor.execute('DROP TABLE IF EXISTS movies_box_office')"
   ]
  },
  {
   "cell_type": "markdown",
   "metadata": {},
   "source": [
    "## Create Tables \n",
    "### Main Table From imdb dataset (movies_box_office)"
   ]
  },
  {
   "cell_type": "code",
   "execution_count": null,
   "metadata": {},
   "outputs": [],
   "source": [
    "cursor.execute('''CREATE TABLE IF NOT EXISTS movies_box_office\n",
    "               (\n",
    "                    movies_box_office_id INTEGER PRIMARY KEY NOT NULL,\n",
    "                    movie_name VARCHAR(100) NOT NULL,\n",
    "                    world_wide_bo INTEGER,\n",
    "                    domestic_amount INTEGER,\n",
    "                    domestic_percentage FLOAT,\n",
    "                    foreign_amount INTEGER,\n",
    "                    foreign_percentage FLOAT\n",
    "                )''')"
   ]
  },
  {
   "cell_type": "code",
   "execution_count": null,
   "metadata": {},
   "outputs": [],
   "source": [
    "import pandas as pd\n",
    "\n",
    "# List of file names\n",
    "filenames = ['./datasets/box-office/ranking_summary_2018.csv', './datasets/box-office/ranking_summary_2019.csv', './datasets/box-office/ranking_summary_2020.csv', './datasets/box-office/ranking_summary_2021.csv', './datasets/box-office/ranking_summary_2022.csv']\n",
    "\n",
    "# Read each CSV file into a DataFrame and store them in a list\n",
    "dataframes = [pd.read_csv(f) for f in filenames]\n",
    "\n",
    "# Concatenate all the dataframes into one\n",
    "combined_dataframe = pd.concat(dataframes, ignore_index=True)\n",
    "\n",
    "combined_dataframe.reset_index(drop=True, inplace=True)\n",
    "combined_dataframe.index = combined_dataframe.index + 1"
   ]
  },
  {
   "cell_type": "code",
   "execution_count": null,
   "metadata": {},
   "outputs": [],
   "source": [
    "combined_dataframe"
   ]
  },
  {
   "cell_type": "markdown",
   "metadata": {},
   "source": [
    "### Add the Movies to the movies_box_office table\n",
    "Take the data from the combined_dataframe and place it in rows in the movies_box_office table"
   ]
  },
  {
   "cell_type": "code",
   "execution_count": null,
   "metadata": {},
   "outputs": [],
   "source": [
    "import re\n",
    "import numpy as np\n",
    "\n",
    "for index, row in combined_dataframe.iterrows():\n",
    "    # Declare a variable for each field and assign it to value from DF\n",
    "    movie_bo_id = index\n",
    "    movie_name = re.sub(r'[^\\w\\s]', '',row[\"title\"]).upper()\n",
    "    world_wide_bo = int(re.sub('[^A-Za-z0-9]+', '', row[\"worldwide\"]))\n",
    "    if row['domestic'] != '-':\n",
    "        domestic_amount = int(re.sub('[^A-Za-z0-9]+', '', row[\"domestic\"]))\n",
    "    if row['domestic_pct'] != '-':\n",
    "        domestic_percentage = float(re.sub('[^A-Za-z0-9\\.]+', '', row[\"domestic_pct\"]))\n",
    "    if row['foreign'] != '-':\n",
    "        foreign_amount = int(re.sub('[^A-Za-z0-9]+', '', row[\"foreign\"]))\n",
    "    if row['foreign_pct'] != '-':\n",
    "        foreign_percentage = float(re.sub('[^A-Za-z0-9\\.]+', '', row[\"foreign_pct\"]))\n",
    "    print(f\"{movie_bo_id}, {movie_name}, {world_wide_bo}, {domestic_amount}, {domestic_percentage}, {foreign_amount}, {foreign_percentage}\")\n",
    "    cursor.execute('''INSERT INTO movies_box_office (movies_box_office_id, movie_name, world_wide_bo, domestic_amount, domestic_percentage, foreign_amount, foreign_percentage) \n",
    "                     VALUES (?, ?, ?, ?, ?, ?, ?)''', (movie_bo_id, movie_name, world_wide_bo, domestic_amount, domestic_percentage, foreign_amount, foreign_percentage))\n",
    "\n",
    "connection.commit()"
   ]
  },
  {
   "cell_type": "code",
   "execution_count": null,
   "metadata": {},
   "outputs": [],
   "source": [
    "cursor.execute(\"SELECT * FROM movies_box_office\")\n",
    "rows = cursor.fetchall()\n",
    "\n",
    "for row in rows:\n",
    "    print(row)"
   ]
  },
  {
   "cell_type": "code",
   "execution_count": null,
   "metadata": {},
   "outputs": [],
   "source": [
    "connection.close()"
   ]
  }
 ],
 "metadata": {
  "kernelspec": {
   "display_name": "Python 3 (ipykernel)",
   "language": "python",
   "name": "python3"
  },
  "language_info": {
   "codemirror_mode": {
    "name": "ipython",
    "version": 3
   },
   "file_extension": ".py",
   "mimetype": "text/x-python",
   "name": "python",
   "nbconvert_exporter": "python",
   "pygments_lexer": "ipython3",
   "version": "3.10.7"
  }
 },
 "nbformat": 4,
 "nbformat_minor": 2
}
