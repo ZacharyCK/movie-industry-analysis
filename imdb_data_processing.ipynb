{
 "cells": [
  {
   "cell_type": "markdown",
   "metadata": {},
   "source": [
    "# Setting Up The SQLite Server\n",
    "Below is the code to import the sqlite3 library that is included with the Python standard library package."
   ]
  },
  {
   "cell_type": "code",
   "execution_count": 1,
   "metadata": {},
   "outputs": [],
   "source": [
    "import sqlite3"
   ]
  },
  {
   "cell_type": "markdown",
   "metadata": {},
   "source": [
    "Next is the code to create/connect with the database"
   ]
  },
  {
   "cell_type": "code",
   "execution_count": 2,
   "metadata": {},
   "outputs": [],
   "source": [
    "connection = sqlite3.connect('movies.db')"
   ]
  },
  {
   "cell_type": "markdown",
   "metadata": {},
   "source": [
    "Now the next code will create a cursor object so we can execute SQL statements"
   ]
  },
  {
   "cell_type": "code",
   "execution_count": 3,
   "metadata": {},
   "outputs": [],
   "source": [
    "cursor = connection.cursor()"
   ]
  },
  {
   "cell_type": "markdown",
   "metadata": {},
   "source": [
    "## Drop Tables\n",
    "Drop all the tables from the database to start fresh."
   ]
  },
  {
   "cell_type": "code",
   "execution_count": null,
   "metadata": {},
   "outputs": [],
   "source": [
    "cursor.execute('DROP TABLE IF EXISTS movie_stars')\n",
    "cursor.execute('DROP TABLE IF EXISTS stars')\n",
    "cursor.execute('DROP TABLE IF EXISTS movie_genres')\n",
    "cursor.execute('DROP TABLE IF EXISTS genres')\n",
    "cursor.execute('DROP TABLE IF EXISTS movie_directors')\n",
    "cursor.execute('DROP TABLE IF EXISTS directors')\n",
    "cursor.execute('DROP TABLE IF EXISTS imdb_movies')\n",
    "cursor.execute('DROP TABLE IF EXISTS certifications')"
   ]
  },
  {
   "cell_type": "markdown",
   "metadata": {},
   "source": [
    "## Create Tables "
   ]
  },
  {
   "cell_type": "markdown",
   "metadata": {},
   "source": [
    "### Main Table From imdb dataset (imdb_movies)"
   ]
  },
  {
   "cell_type": "code",
   "execution_count": null,
   "metadata": {},
   "outputs": [],
   "source": [
    "cursor.execute('''CREATE TABLE IF NOT EXISTS imdb_movies\n",
    "               (\n",
    "                    imdb_movies_id INTEGER PRIMARY KEY NOT NULL, \n",
    "                    movie_name VARCHAR(100) NOT NULL, \n",
    "                    year_released TEXT NOT NULL,\n",
    "                    run_time INTEGER NOT NULL,\n",
    "                    meta_score INTEGER,\n",
    "                    description TEXT NOT NULL,\n",
    "                    certification VARCHAR(25)\n",
    "                )''')"
   ]
  },
  {
   "cell_type": "markdown",
   "metadata": {},
   "source": [
    "### Create table for the stars"
   ]
  },
  {
   "cell_type": "code",
   "execution_count": null,
   "metadata": {},
   "outputs": [],
   "source": [
    "cursor.execute('''CREATE TABLE IF NOT EXISTS stars\n",
    "               (\n",
    "                    star_id INTEGER PRIMARY KEY NOT NULL, \n",
    "                    star_name VARCHAR(100) \n",
    "                )''')"
   ]
  },
  {
   "cell_type": "markdown",
   "metadata": {},
   "source": [
    "### Make table that connects movies and stars\n",
    "We are connecting movies and stars in a separate table because there can be multiple stars per movie and each star can be in multiple movies. Since there is a many-to-many relationship between the movies and stars tables, we need to make a new table that contains the id from the movies table and the id from the stars table. This will also be the same with movie directors and genres."
   ]
  },
  {
   "cell_type": "code",
   "execution_count": null,
   "metadata": {},
   "outputs": [],
   "source": [
    "cursor.execute('''CREATE TABLE IF NOT EXISTS movie_stars\n",
    "               (\n",
    "                    movie_star_id INTEGER PRIMARY KEY AUTOINCREMENT, \n",
    "                    movie_id INTEGER NOT NULL,\n",
    "                    star_id INTEGER NOT NULL,\n",
    "                    FOREIGN KEY (movie_id) REFERENCES imdb_movies(imdb_movies_id)\n",
    "                    FOREIGN KEY (star_id) REFERENCES stars(star_id)\n",
    "                )''')"
   ]
  },
  {
   "cell_type": "markdown",
   "metadata": {},
   "source": [
    "### Make table for Directors"
   ]
  },
  {
   "cell_type": "code",
   "execution_count": null,
   "metadata": {},
   "outputs": [],
   "source": [
    "cursor.execute('''CREATE TABLE IF NOT EXISTS directors\n",
    "               (\n",
    "                    director_id INTEGER PRIMARY KEY NOT NULL, \n",
    "                    director_name VARCHAR(100) \n",
    "                )''')"
   ]
  },
  {
   "cell_type": "markdown",
   "metadata": {},
   "source": [
    "### Make a table that connects Movies and Directors\n",
    "We need to create a table that connects movies and directors like we did with movies and stars"
   ]
  },
  {
   "cell_type": "code",
   "execution_count": null,
   "metadata": {},
   "outputs": [],
   "source": [
    "cursor.execute('''CREATE TABLE IF NOT EXISTS movie_directors\n",
    "               (\n",
    "                    movie_director_id INTEGER PRIMARY KEY AUTOINCREMENT, \n",
    "                    movie_id INTEGER NOT NULL,\n",
    "                    director_id INTEGER NOT NULL,\n",
    "                    FOREIGN KEY (movie_id) REFERENCES imdb_movies(imdb_movies_id)\n",
    "                    FOREIGN KEY (director_id) REFERENCES directors(director_id)\n",
    "                )''')"
   ]
  },
  {
   "cell_type": "markdown",
   "metadata": {},
   "source": [
    "### Create table containing all the different genres"
   ]
  },
  {
   "cell_type": "code",
   "execution_count": null,
   "metadata": {},
   "outputs": [],
   "source": [
    "cursor.execute('''CREATE TABLE IF NOT EXISTS genres\n",
    "               (\n",
    "                    genre_id INTEGER PRIMARY KEY NOT NULL, \n",
    "                    genre_name VARCHAR(20) \n",
    "                )''')"
   ]
  },
  {
   "cell_type": "markdown",
   "metadata": {},
   "source": [
    "### Make a table connecting movies and genres\n",
    "Like we did with movies and stars, and movies and directors, we will make a table connecting the movie values with the genre values."
   ]
  },
  {
   "cell_type": "code",
   "execution_count": null,
   "metadata": {},
   "outputs": [],
   "source": [
    "cursor.execute('''CREATE TABLE IF NOT EXISTS movie_genres\n",
    "               (\n",
    "                    movie_genre_id INTEGER PRIMARY KEY AUTOINCREMENT, \n",
    "                    movie_id INTEGER NOT NULL,\n",
    "                    genre_id INTEGER NOT NULL,\n",
    "                    FOREIGN KEY (movie_id) REFERENCES imdb_movies(imdb_movies_id)\n",
    "                    FOREIGN KEY (genre_id) REFERENCES genres(genre_id)\n",
    "                )''')"
   ]
  },
  {
   "cell_type": "markdown",
   "metadata": {},
   "source": [
    "## Use pandas to clean up our data\n",
    "Using pandas we will clean up our data to only have movies released from 2018 to 2022"
   ]
  },
  {
   "cell_type": "code",
   "execution_count": null,
   "metadata": {},
   "outputs": [],
   "source": [
    "# import pandas package\n",
    "import pandas as pd\n",
    "\n",
    "# path to our movie data file\n",
    "path_to_data = './datasets/imdb/imdb-data.csv'\n",
    "\n",
    "# open the csv file\n",
    "imdb_df = pd.read_csv(path_to_data, index_col=0)\n",
    "\n",
    "movies_afer_2018 = imdb_df[\"Year of Release\"] >= 2018\n",
    "movies_before_2023 = imdb_df[\"Year of Release\"] <= 2022\n",
    "\n",
    "movies_in_range_df = imdb_df[movies_afer_2018 & movies_before_2023]\n",
    "movies_in_range_df = movies_in_range_df.sort_values(by=\"Year of Release\")\n",
    "\n",
    "movies_in_range_df"
   ]
  },
  {
   "cell_type": "code",
   "execution_count": null,
   "metadata": {},
   "outputs": [],
   "source": [
    "import ast\n",
    "\n",
    "genre_s = movies_in_range_df[\"Genre\"]\n",
    "\n",
    "genre_list = []\n",
    "\n",
    "for genres in genre_s:\n",
    "    lit_genres = ast.literal_eval(genres)\n",
    "    for genre in lit_genres:\n",
    "        genre_list.append(genre.strip())\n",
    "\n",
    "genre_set = set(genre_list)\n",
    "\n",
    "for genre in genre_set:\n",
    "    print(genre)"
   ]
  },
  {
   "cell_type": "markdown",
   "metadata": {},
   "source": [
    "#### Adding Genres to the genres table"
   ]
  },
  {
   "cell_type": "code",
   "execution_count": null,
   "metadata": {},
   "outputs": [],
   "source": [
    "id = 1\n",
    "\n",
    "for genre in genre_set:\n",
    "    cursor.execute('INSERT INTO genres (genre_id, genre_name) VALUES (?, ?)', (id, genre))\n",
    "    id += 1"
   ]
  },
  {
   "cell_type": "code",
   "execution_count": null,
   "metadata": {},
   "outputs": [],
   "source": [
    "cursor.execute('SELECT * FROM genres')\n",
    "rows = cursor.fetchall()\n",
    "for row in rows:\n",
    "    print(row)"
   ]
  },
  {
   "cell_type": "markdown",
   "metadata": {},
   "source": [
    "## Get All the Directors\n",
    "Get all the directors from the DataFrame like was done with the genres and insert them into the directors table."
   ]
  },
  {
   "cell_type": "code",
   "execution_count": null,
   "metadata": {},
   "outputs": [],
   "source": [
    "director_s = movies_in_range_df[\"Director\"]\n",
    "\n",
    "director_list = []\n",
    "\n",
    "for director in director_s:\n",
    "    lit_director = ast.literal_eval(director)\n",
    "    for each in lit_director:\n",
    "        director_list.append(each.strip())\n",
    "\n",
    "\n",
    "director_set = set(director_list)\n",
    "\n",
    "print(director_set)"
   ]
  },
  {
   "cell_type": "markdown",
   "metadata": {},
   "source": [
    "### Adding Directors to the Directors Table"
   ]
  },
  {
   "cell_type": "code",
   "execution_count": null,
   "metadata": {},
   "outputs": [],
   "source": [
    "id = 1\n",
    "\n",
    "for director in director_set:\n",
    "    cursor.execute('INSERT INTO directors (director_id, director_name) VALUES (?, ?)', (id, director))\n",
    "    id += 1"
   ]
  },
  {
   "cell_type": "code",
   "execution_count": null,
   "metadata": {},
   "outputs": [],
   "source": [
    "cursor.execute('SELECT * FROM directors')\n",
    "rows = cursor.fetchall()\n",
    "for row in rows:\n",
    "    print(row)"
   ]
  },
  {
   "cell_type": "markdown",
   "metadata": {},
   "source": [
    "## Get all the Stars\n",
    "Get all the stars from the DataFrame to insert into the stars table"
   ]
  },
  {
   "cell_type": "code",
   "execution_count": null,
   "metadata": {},
   "outputs": [],
   "source": [
    "star_s = movies_in_range_df[\"Stars\"]\n",
    "\n",
    "stars_list = []\n",
    "\n",
    "for star in star_s:\n",
    "    lit_star = ast.literal_eval(star)\n",
    "    for each in lit_star:\n",
    "        stars_list.append(each.strip())\n",
    "\n",
    "\n",
    "stars_set = set(stars_list)\n",
    "\n",
    "print(stars_set)"
   ]
  },
  {
   "cell_type": "markdown",
   "metadata": {},
   "source": [
    "#### Adding stars to the stars table"
   ]
  },
  {
   "cell_type": "code",
   "execution_count": null,
   "metadata": {},
   "outputs": [],
   "source": [
    "id = 1\n",
    "\n",
    "for star in stars_set:\n",
    "    cursor.execute('INSERT INTO stars (star_id, star_name) VALUES (?, ?)', (id, star))\n",
    "    id += 1"
   ]
  },
  {
   "cell_type": "code",
   "execution_count": null,
   "metadata": {},
   "outputs": [],
   "source": [
    "cursor.execute('SELECT * FROM stars')\n",
    "rows = cursor.fetchall()\n",
    "for row in rows:\n",
    "    print(row)"
   ]
  },
  {
   "cell_type": "markdown",
   "metadata": {},
   "source": [
    "### Add the Movies to the imdb_movies Table\n",
    "Now we will add all the Movies and the proper data to the imdb_movies table"
   ]
  },
  {
   "cell_type": "code",
   "execution_count": null,
   "metadata": {},
   "outputs": [],
   "source": [
    "import re\n",
    "\n",
    "for index, row in movies_in_range_df.iterrows():\n",
    "    # Declare a variable for each field and assign it to value from DF\n",
    "    movie_id = index\n",
    "    movie_name = re.sub(r'[^\\w\\s]', '',row[\"Movie Name\"]).upper()\n",
    "    year_released = row[\"Year of Release\"]\n",
    "    run_time = row[\"Run Time in minutes\"]\n",
    "    meta_score = row[\"MetaScore\"]\n",
    "    description = \" \".join(ast.literal_eval(row[\"Description\"]))\n",
    "    certification = row[\"Certification\"]\n",
    "    print(f\"{movie_id}, {movie_name}, {year_released}, {run_time}, {meta_score}, {description}, {certification}\")\n",
    "    cursor.execute('''INSERT INTO imdb_movies (imdb_movies_id, movie_name, year_released, run_time, meta_score, description, certification) \n",
    "                      VALUES (?, ?, ?, ?, ?, ?, ?)''', (movie_id, movie_name, year_released, run_time, meta_score, description, certification))\n",
    "\n",
    "    # Make movie names with all caps and no special characters to match with other datasets\n",
    "    # Use INSERT statement to add values to the database"
   ]
  },
  {
   "cell_type": "code",
   "execution_count": null,
   "metadata": {},
   "outputs": [],
   "source": [
    "cursor.execute('SELECT * FROM imdb_movies')\n",
    "rows = cursor.fetchall()\n",
    "for row in rows:\n",
    "    print(row)"
   ]
  },
  {
   "cell_type": "markdown",
   "metadata": {},
   "source": [
    "## Get IDs from each movie and Directors to insert into movie_directors table\n",
    "Loop through the pandas dataframe holding all of the data, get the ID of the movie and the ID of the director and insert into the movie_directors. Will have to loop through the directors since it is a list inside of the DataFrame and individually get the id of each from the directors table. "
   ]
  },
  {
   "cell_type": "code",
   "execution_count": null,
   "metadata": {},
   "outputs": [],
   "source": [
    "movie_director_index = 1\n",
    "\n",
    "for index, row in movies_in_range_df.iterrows():\n",
    "    movie_id = index\n",
    "    directors = ast.literal_eval(row[\"Director\"])\n",
    "    for director in directors:\n",
    "        cursor.execute(\"SELECT director_id FROM directors WHERE director_name = ?\", (director.strip(),))\n",
    "        dir_ids = cursor.fetchall()\n",
    "        for dir_id in dir_ids:\n",
    "            cursor.execute(\"INSERT INTO movie_directors VALUES (?,?,?)\", (movie_director_index, movie_id, dir_id[0]))\n",
    "            movie_director_index += 1\n",
    "        "
   ]
  },
  {
   "cell_type": "code",
   "execution_count": null,
   "metadata": {},
   "outputs": [],
   "source": [
    "cursor.execute(\"SELECT * FROM movie_directors\")\n",
    "rows = cursor.fetchall()\n",
    "\n",
    "for row in rows:\n",
    "    print(row)"
   ]
  },
  {
   "cell_type": "markdown",
   "metadata": {},
   "source": [
    "## Get IDs from Movies and Stars to insert into movie_stars Table\n",
    "Loop through the movies table and stars table to get their ids and then insert them into a new row in the movie_stars table."
   ]
  },
  {
   "cell_type": "code",
   "execution_count": null,
   "metadata": {},
   "outputs": [],
   "source": [
    "movie_star_index = 1\n",
    "\n",
    "for index, row in movies_in_range_df.iterrows():\n",
    "    movie_id = index\n",
    "    stars = ast.literal_eval(row[\"Stars\"])\n",
    "    for star in stars:\n",
    "        cursor.execute(\"SELECT star_id FROM stars WHERE star_name = ?\", (star.strip(),))\n",
    "        star_ids = cursor.fetchall()\n",
    "        for star_id in star_ids:\n",
    "            cursor.execute(\"INSERT INTO movie_stars VALUES (?,?,?)\", (movie_star_index, movie_id, star_id[0]))\n",
    "            movie_star_index += 1"
   ]
  },
  {
   "cell_type": "code",
   "execution_count": null,
   "metadata": {},
   "outputs": [],
   "source": [
    "cursor.execute(\"SELECT * FROM movie_stars\")\n",
    "rows = cursor.fetchall()\n",
    "\n",
    "for row in rows:\n",
    "    print(row)"
   ]
  },
  {
   "cell_type": "markdown",
   "metadata": {},
   "source": [
    "## Get IDs from Movies and Genres and Place them into the movie_genres table\n",
    "Get the id from the imdb_movies table and each genre and place them in rows in the movie_genres table"
   ]
  },
  {
   "cell_type": "code",
   "execution_count": null,
   "metadata": {},
   "outputs": [],
   "source": [
    "movie_genre_index = 1\n",
    "\n",
    "for index, row in movies_in_range_df.iterrows():\n",
    "    movie_id = index\n",
    "    genres = ast.literal_eval(row[\"Genre\"])\n",
    "    for genre in genres:\n",
    "        cursor.execute(\"SELECT genre_id FROM genres WHERE genre_name = ?\", (genre.strip(),))\n",
    "        genre_ids = cursor.fetchall()\n",
    "        #print(genre_ids)\n",
    "        for genre_id in genre_ids:\n",
    "            cursor.execute(\"INSERT INTO movie_genres VALUES (?,?,?)\", (movie_genre_index, movie_id, genre_id[0]))\n",
    "            movie_genre_index += 1"
   ]
  },
  {
   "cell_type": "code",
   "execution_count": null,
   "metadata": {},
   "outputs": [],
   "source": [
    "cursor.execute(\"SELECT * FROM movie_genres\")\n",
    "rows = cursor.fetchall()\n",
    "\n",
    "for row in rows:\n",
    "    print(row)"
   ]
  }
 ],
 "metadata": {
  "kernelspec": {
   "display_name": "Python 3 (ipykernel)",
   "language": "python",
   "name": "python3"
  },
  "language_info": {
   "codemirror_mode": {
    "name": "ipython",
    "version": 3
   },
   "file_extension": ".py",
   "mimetype": "text/x-python",
   "name": "python",
   "nbconvert_exporter": "python",
   "pygments_lexer": "ipython3",
   "version": "3.10.7"
  }
 },
 "nbformat": 4,
 "nbformat_minor": 2
}
