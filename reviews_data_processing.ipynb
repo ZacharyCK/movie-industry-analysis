{
 "cells": [
  {
   "cell_type": "markdown",
   "metadata": {},
   "source": [
    "# Setting Up The SQLite Server\n",
    "Below is the code to import the sqlite3 library that is included with the Python standard library package."
   ]
  },
  {
   "cell_type": "code",
   "execution_count": null,
   "metadata": {},
   "outputs": [],
   "source": [
    "import sqlite3"
   ]
  },
  {
   "cell_type": "markdown",
   "metadata": {},
   "source": [
    "Next is the code to create/connect with the database"
   ]
  },
  {
   "cell_type": "code",
   "execution_count": null,
   "metadata": {},
   "outputs": [],
   "source": [
    "connection = sqlite3.connect('movies.db')"
   ]
  },
  {
   "cell_type": "markdown",
   "metadata": {},
   "source": [
    "Now the next code will create a cursor object so we can execute SQL statements"
   ]
  },
  {
   "cell_type": "code",
   "execution_count": null,
   "metadata": {},
   "outputs": [],
   "source": [
    "cursor = connection.cursor()"
   ]
  },
  {
   "cell_type": "markdown",
   "metadata": {},
   "source": [
    "## Drop Tables\n",
    "Drop all the tables from the database to start fresh."
   ]
  },
  {
   "cell_type": "code",
   "execution_count": null,
   "metadata": {},
   "outputs": [],
   "source": [
    "cursor.execute('DROP TABLE IF EXISTS movie_reviews')"
   ]
  },
  {
   "cell_type": "markdown",
   "metadata": {},
   "source": [
    "## Create Table for Rotten Tomato Movie Reviews and call it movie_reviews"
   ]
  },
  {
   "cell_type": "code",
   "execution_count": null,
   "metadata": {},
   "outputs": [],
   "source": [
    "cursor.execute('''CREATE TABLE IF NOT EXISTS movie_reviews\n",
    "               (\n",
    "                    movies_id INTEGER PRIMARY KEY NOT NULL,\n",
    "                    movie_name VARCHAR(100) NOT NULL,\n",
    "                    audience_score INTEGER, \n",
    "                    tomato_meter INTEGER\n",
    "                )''')"
   ]
  },
  {
   "cell_type": "markdown",
   "metadata": {},
   "source": [
    "## Use pandas to clean up our data\n",
    "Using pandas we will clean up our data to only have movies released from 2018 to 2022"
   ]
  },
  {
   "cell_type": "code",
   "execution_count": null,
   "metadata": {},
   "outputs": [],
   "source": [
    "# import pandas\n",
    "import pandas as pd\n",
    "\n",
    "# path to data file\n",
    "path_to_file = \"./datasets/rotten-tomatoes/rotten_tomatoes_movies.csv\"\n",
    "\n",
    "# open csv file\n",
    "movie_reviews_df = pd.read_csv(path_to_file)\n",
    "\n",
    "movie_reviews_df.index.name = 'review_id'\n",
    "\n",
    "# get movies before 2023 and after 2017\n",
    "movies_afer_2018 = movie_reviews_df[\"releaseDateStreaming\"] >= '2018-01-01'\n",
    "movies_before_2023 = movie_reviews_df[\"releaseDateStreaming\"] <= '2022-12-31'\n",
    "\n",
    "reviews_in_range_df = movie_reviews_df[movies_afer_2018 & movies_before_2023]\n",
    "reviews_in_range_df = reviews_in_range_df.sort_values(by=\"releaseDateStreaming\")\n",
    "\n",
    "# Get rid of rows that have no audience score and tomato meter score\n",
    "cleaned_reviews_df = reviews_in_range_df.dropna(subset=['audienceScore', 'tomatoMeter'])\n",
    "\n",
    "cleaned_reviews_df"
   ]
  },
  {
   "cell_type": "markdown",
   "metadata": {},
   "source": [
    "## Take Data from DataFrame and insert the Data into the Database Table"
   ]
  },
  {
   "cell_type": "code",
   "execution_count": null,
   "metadata": {},
   "outputs": [],
   "source": [
    "# import package for regular expressions\n",
    "import re\n",
    "\n",
    "for index, row in cleaned_reviews_df.iterrows():\n",
    "    movie_review_id = index\n",
    "    movie_name = re.sub(r'[^\\w\\s]', '',row['title']).upper()\n",
    "    audience_score = int(row['audienceScore'])\n",
    "    tomato_meter = int(row['tomatoMeter'])\n",
    "    print(movie_review_id, ', ', movie_name, ', ', audience_score, ', ', tomato_meter)\n",
    "    cursor.execute('INSERT INTO movie_reviews(movies_id, movie_name, audience_score, tomato_meter) VALUES(?, ?, ?, ?)', (movie_review_id, movie_name, audience_score, tomato_meter))\n",
    "\n",
    "connection.commit()"
   ]
  },
  {
   "cell_type": "code",
   "execution_count": null,
   "metadata": {},
   "outputs": [],
   "source": [
    "cursor.execute('SELECT * FROM movie_reviews')\n",
    "review_rows = cursor.fetchall()\n",
    "for review in review_rows:\n",
    "    print(review)"
   ]
  },
  {
   "cell_type": "code",
   "execution_count": null,
   "metadata": {},
   "outputs": [],
   "source": [
    "connection.close()"
   ]
  }
 ],
 "metadata": {
  "kernelspec": {
   "display_name": "Python 3 (ipykernel)",
   "language": "python",
   "name": "python3"
  },
  "language_info": {
   "codemirror_mode": {
    "name": "ipython",
    "version": 3
   },
   "file_extension": ".py",
   "mimetype": "text/x-python",
   "name": "python",
   "nbconvert_exporter": "python",
   "pygments_lexer": "ipython3",
   "version": "3.10.7"
  }
 },
 "nbformat": 4,
 "nbformat_minor": 2
}
